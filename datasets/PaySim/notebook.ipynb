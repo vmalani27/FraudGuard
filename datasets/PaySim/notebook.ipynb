{
 "cells": [
  {
   "cell_type": "code",
   "execution_count": 2,
   "metadata": {
    "vscode": {
     "languageId": "plaintext"
    }
   },
   "outputs": [],
   "source": [
    "import pandas as pd"
   ]
  },
  {
   "cell_type": "code",
   "execution_count": 3,
   "metadata": {
    "vscode": {
     "languageId": "plaintext"
    }
   },
   "outputs": [],
   "source": [
    "df=pd.read_csv(\"final_paysim_dataset_with_explanations.csv\")"
   ]
  },
  {
   "cell_type": "code",
   "execution_count": 4,
   "metadata": {},
   "outputs": [
    {
     "data": {
      "text/html": [
       "<div>\n",
       "<style scoped>\n",
       "    .dataframe tbody tr th:only-of-type {\n",
       "        vertical-align: middle;\n",
       "    }\n",
       "\n",
       "    .dataframe tbody tr th {\n",
       "        vertical-align: top;\n",
       "    }\n",
       "\n",
       "    .dataframe thead th {\n",
       "        text-align: right;\n",
       "    }\n",
       "</style>\n",
       "<table border=\"1\" class=\"dataframe\">\n",
       "  <thead>\n",
       "    <tr style=\"text-align: right;\">\n",
       "      <th></th>\n",
       "      <th>Unnamed: 0</th>\n",
       "      <th>step</th>\n",
       "      <th>type</th>\n",
       "      <th>amount</th>\n",
       "      <th>nameOrig</th>\n",
       "      <th>oldbalanceOrg</th>\n",
       "      <th>newbalanceOrig</th>\n",
       "      <th>nameDest</th>\n",
       "      <th>oldbalanceDest</th>\n",
       "      <th>newbalanceDest</th>\n",
       "      <th>isFraud</th>\n",
       "      <th>Fraud_Prediction</th>\n",
       "      <th>explanations</th>\n",
       "    </tr>\n",
       "  </thead>\n",
       "  <tbody>\n",
       "    <tr>\n",
       "      <th>0</th>\n",
       "      <td>1628</td>\n",
       "      <td>269</td>\n",
       "      <td>CASH_OUT</td>\n",
       "      <td>48412.47</td>\n",
       "      <td>C1388837580</td>\n",
       "      <td>48412.47</td>\n",
       "      <td>0.00</td>\n",
       "      <td>C685030137</td>\n",
       "      <td>359164.10</td>\n",
       "      <td>407576.58</td>\n",
       "      <td>1</td>\n",
       "      <td>1</td>\n",
       "      <td>\\n### Instruction:\\nAnalyze the transaction de...</td>\n",
       "    </tr>\n",
       "    <tr>\n",
       "      <th>1</th>\n",
       "      <td>3141</td>\n",
       "      <td>180</td>\n",
       "      <td>CASH_OUT</td>\n",
       "      <td>37891.64</td>\n",
       "      <td>C1250668520</td>\n",
       "      <td>52001.00</td>\n",
       "      <td>14109.36</td>\n",
       "      <td>C385864067</td>\n",
       "      <td>0.00</td>\n",
       "      <td>37891.64</td>\n",
       "      <td>0</td>\n",
       "      <td>1</td>\n",
       "      <td>\\n### Instruction:\\nAnalyze the transaction de...</td>\n",
       "    </tr>\n",
       "    <tr>\n",
       "      <th>2</th>\n",
       "      <td>1108</td>\n",
       "      <td>261</td>\n",
       "      <td>CASH_OUT</td>\n",
       "      <td>259186.43</td>\n",
       "      <td>C959540138</td>\n",
       "      <td>259186.43</td>\n",
       "      <td>0.00</td>\n",
       "      <td>C388401160</td>\n",
       "      <td>21068.83</td>\n",
       "      <td>280255.26</td>\n",
       "      <td>1</td>\n",
       "      <td>1</td>\n",
       "      <td>\\n### Instruction:\\nAnalyze the transaction de...</td>\n",
       "    </tr>\n",
       "    <tr>\n",
       "      <th>3</th>\n",
       "      <td>1378</td>\n",
       "      <td>86</td>\n",
       "      <td>CASH_OUT</td>\n",
       "      <td>88649.10</td>\n",
       "      <td>C796414235</td>\n",
       "      <td>88649.10</td>\n",
       "      <td>0.00</td>\n",
       "      <td>C1743229382</td>\n",
       "      <td>2239755.86</td>\n",
       "      <td>2328404.96</td>\n",
       "      <td>1</td>\n",
       "      <td>1</td>\n",
       "      <td>\\n### Instruction:\\nAnalyze the transaction de...</td>\n",
       "    </tr>\n",
       "    <tr>\n",
       "      <th>4</th>\n",
       "      <td>817</td>\n",
       "      <td>7</td>\n",
       "      <td>CASH_OUT</td>\n",
       "      <td>21729.00</td>\n",
       "      <td>C693427358</td>\n",
       "      <td>21729.00</td>\n",
       "      <td>0.00</td>\n",
       "      <td>C1101441872</td>\n",
       "      <td>27335.00</td>\n",
       "      <td>0.00</td>\n",
       "      <td>1</td>\n",
       "      <td>1</td>\n",
       "      <td>\\n### Instruction:\\nAnalyze the transaction de...</td>\n",
       "    </tr>\n",
       "  </tbody>\n",
       "</table>\n",
       "</div>"
      ],
      "text/plain": [
       "   Unnamed: 0  step      type     amount     nameOrig  oldbalanceOrg  \\\n",
       "0        1628   269  CASH_OUT   48412.47  C1388837580       48412.47   \n",
       "1        3141   180  CASH_OUT   37891.64  C1250668520       52001.00   \n",
       "2        1108   261  CASH_OUT  259186.43   C959540138      259186.43   \n",
       "3        1378    86  CASH_OUT   88649.10   C796414235       88649.10   \n",
       "4         817     7  CASH_OUT   21729.00   C693427358       21729.00   \n",
       "\n",
       "   newbalanceOrig     nameDest  oldbalanceDest  newbalanceDest  isFraud  \\\n",
       "0            0.00   C685030137       359164.10       407576.58        1   \n",
       "1        14109.36   C385864067            0.00        37891.64        0   \n",
       "2            0.00   C388401160        21068.83       280255.26        1   \n",
       "3            0.00  C1743229382      2239755.86      2328404.96        1   \n",
       "4            0.00  C1101441872        27335.00            0.00        1   \n",
       "\n",
       "   Fraud_Prediction                                       explanations  \n",
       "0                 1  \\n### Instruction:\\nAnalyze the transaction de...  \n",
       "1                 1  \\n### Instruction:\\nAnalyze the transaction de...  \n",
       "2                 1  \\n### Instruction:\\nAnalyze the transaction de...  \n",
       "3                 1  \\n### Instruction:\\nAnalyze the transaction de...  \n",
       "4                 1  \\n### Instruction:\\nAnalyze the transaction de...  "
      ]
     },
     "execution_count": 4,
     "metadata": {},
     "output_type": "execute_result"
    }
   ],
   "source": [
    "df.head()"
   ]
  },
  {
   "cell_type": "code",
   "execution_count": 5,
   "metadata": {},
   "outputs": [
    {
     "data": {
      "text/plain": [
       "\"\\n### Instruction:\\nAnalyze the transaction details and explain why the AI model classified it as Fraudulent.\\n\\n### Transaction Details:\\n- Step: 261\\n- Type: CASH_OUT\\n- Amount: 259186.43\\n- Sender: C959540138 (Previous Balance: 259186.43, New Balance: 0.0)\\n- Receiver: C388401160 (Previous Balance: 21068.83, New Balance: 280255.26)\\n\\n### Response:\\nThe AI model classified this transaction as Fraudulent because the transaction details do not match the transaction history of the sender and receiver. The transaction details do not match the transaction history of the sender, as the sender's balance was decre\""
      ]
     },
     "execution_count": 5,
     "metadata": {},
     "output_type": "execute_result"
    }
   ],
   "source": [
    "df.loc[2, 'explanations']"
   ]
  },
  {
   "cell_type": "code",
   "execution_count": null,
   "metadata": {},
   "outputs": [],
   "source": []
  }
 ],
 "metadata": {
  "kernelspec": {
   "display_name": "Python 3 (ipykernel)",
   "language": "python",
   "name": "python3"
  },
  "language_info": {
   "codemirror_mode": {
    "name": "ipython",
    "version": 3
   },
   "file_extension": ".py",
   "mimetype": "text/x-python",
   "name": "python",
   "nbconvert_exporter": "python",
   "pygments_lexer": "ipython3",
   "version": "3.11.9"
  }
 },
 "nbformat": 4,
 "nbformat_minor": 4
}
